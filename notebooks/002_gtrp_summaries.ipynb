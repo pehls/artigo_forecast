{
 "cells": [
  {
   "cell_type": "code",
   "execution_count": 1,
   "metadata": {},
   "outputs": [],
   "source": [
    "import os\n",
    "import dotenv\n",
    "\n",
    "dotenv.load_dotenv('./.env')\n",
    "_SUMMARY_MODEL = \"llama3.2:3b\""
   ]
  },
  {
   "cell_type": "markdown",
   "metadata": {},
   "source": [
    "# Self-Learning with llama"
   ]
  },
  {
   "cell_type": "markdown",
   "metadata": {},
   "source": [
    "## chromadb store"
   ]
  },
  {
   "cell_type": "code",
   "execution_count": 2,
   "metadata": {},
   "outputs": [],
   "source": [
    "import chromadb\n",
    "import json\n",
    "from pathlib import Path\n",
    "\n",
    "from chromadb.utils import embedding_functions\n",
    "from langchain_chroma import Chroma\n",
    "from langchain.document_loaders import PyPDFLoader, JSONLoader\n",
    "\n",
    "from langchain_openai import ChatOpenAI\n",
    "from langchain_core.prompts import ChatPromptTemplate, MessagesPlaceholder\n",
    "from langchain.chains.combine_documents import create_stuff_documents_chain\n",
    "from langchain.chains import create_retrieval_chain\n",
    "from langchain_core.messages import HumanMessage\n",
    "\n",
    "from langchain.text_splitter import CharacterTextSplitter\n",
    "from langchain_huggingface import HuggingFaceEmbeddings\n",
    "from langchain.document_loaders import PyPDFLoader\n",
    "\n",
    "def metadata_func(record:dict, metadata:dict) -> dict:\n",
    "    for col_metadata in ['code','title','code_data','code_number','link']:\n",
    "        metadata[col_metadata] = record.get(col_metadata)\n",
    "    metadata['authors'] = ','.join(record.get('authors'))\n",
    "    return metadata\n",
    "\n",
    "def load_chunk_persist_pdf(pdf_folder_path = \"E:\\codes\\Artigo Forecast\\pdfs\",\n",
    "                           collection_name = 'article_collection',\n",
    "                           json_metadata_function = metadata_func,\n",
    "                           chunk_size=2000, chunk_overlap=100) -> Chroma:\n",
    "    documents = []\n",
    "    for file in os.listdir(pdf_folder_path):\n",
    "        file_path = os.path.join(pdf_folder_path, file)\n",
    "        if file.endswith('.pdf'):\n",
    "            loader = PyPDFLoader(file_path)\n",
    "            documents.extend(loader.load())\n",
    "        # if file.endswith('.json'):\n",
    "        #     data = json.loads(Path(file_path).read_text())\n",
    "        #     loader = JSONLoader(\n",
    "        #         file_path=file_path,\n",
    "        #         jq_schema='.summary[]',\n",
    "        #         content_key='summary',\n",
    "        #         metadata_func=metadata_func,\n",
    "        #         text_content=False)\n",
    "        #     documents.extend(loader.load())\n",
    "    text_splitter = CharacterTextSplitter(chunk_size=chunk_size, chunk_overlap=chunk_overlap)\n",
    "    chunked_documents = text_splitter.split_documents(documents)\n",
    "    client = chromadb.Client()\n",
    "    try:\n",
    "        client.delete_collection(collection_name)\n",
    "        consent_collection = client.create_collection(collection_name)\n",
    "    except:\n",
    "        consent_collection = client.create_collection(collection_name)\n",
    "    vectordb = Chroma.from_documents(\n",
    "        documents=chunked_documents,\n",
    "        embedding=HuggingFaceEmbeddings(model_name=\"all-MiniLM-L6-v2\"),\n",
    "        persist_directory=\"../.chroma_store\"\n",
    "    )\n",
    "    return vectordb\n",
    "\n",
    "def _result_print(result):\n",
    "    print(\"-=\"*40)\n",
    "    print(f\"-- input: \\n{result['input']}\")\n",
    "    print(\"-=\"*40)\n",
    "    print(f\"-- context: \\n\")\n",
    "    for docs in result['context']:\n",
    "        print(\"--\"*40)\n",
    "        print(\"-- article:\")\n",
    "        print(docs.metadata['source'])\n",
    "        print('-- content:')\n",
    "        print(docs.page_content)\n",
    "    print(\"-=\"*40)\n",
    "    print(f\"-- answer: \\n{result['answer']}\")"
   ]
  },
  {
   "cell_type": "markdown",
   "metadata": {},
   "source": [
    "# Articles"
   ]
  },
  {
   "cell_type": "code",
   "execution_count": 3,
   "metadata": {},
   "outputs": [],
   "source": [
    "_articles = [\n",
    "    'E:\\\\codes\\\\Artigo Forecast\\\\pdfs\\\\2309.13807v1.pdf',\n",
    "    'E:\\\\codes\\\\Artigo Forecast\\\\pdfs\\\\2309.14518v3.pdf',\n",
    "    'E:\\\\codes\\\\Artigo Forecast\\\\pdfs\\\\2310.11059v1.pdf',\n",
    "    'E:\\\\codes\\\\Artigo Forecast\\\\pdfs\\\\2405.19729v1.pdf',\n",
    "    'E:\\\\codes\\\\Artigo Forecast\\\\pdfs\\\\2406.04390v1.pdf',\n",
    "    'E:\\\\codes\\\\Artigo Forecast\\\\pdfs\\\\2409.04542v1.pdf',\n",
    "]\n",
    "\n"
   ]
  },
  {
   "cell_type": "markdown",
   "metadata": {},
   "source": [
    "# Define tools\n",
    "We will also define some tools that our agents will use in the future"
   ]
  },
  {
   "cell_type": "code",
   "execution_count": 4,
   "metadata": {},
   "outputs": [],
   "source": [
    "dict_articles = {}\n",
    "for article in _articles:\n",
    "    loader = PyPDFLoader(article)\n",
    "    list_summaries = []\n",
    "    for page in loader.load():\n",
    "        llm = ChatOpenAI(\n",
    "                    api_key=\"ollama\",\n",
    "                    model=\"llama3.2:3b\",\n",
    "                    base_url=\"http://localhost:11434/v1\",\n",
    "                )\n",
    "        model = ChatOpenAI(\n",
    "            api_key=\"ollama\",\n",
    "            model=_SUMMARY_MODEL,\n",
    "            base_url=\"http://localhost:11434/v1\",\n",
    "        )\n",
    "        message = HumanMessage(\n",
    "            content=[\n",
    "                {\"type\": \"text\", \"text\": f\"\"\"\n",
    "                    resume the content of a text. you have to point the feature selection models used, the context where they are using it, the relationship with time series, and the results of the text, summarized.\n",
    "                    never return authors or references, just the main concepts mentioned here.\n",
    "                    this is the text:\n",
    "                    <<{page.page_content}>>\n",
    "                    \"\"\"}\n",
    "            ],\n",
    "        )\n",
    "        list_summaries.append(model.invoke([message]).content)\n",
    "        message = HumanMessage(\n",
    "            content=[\n",
    "                {\"type\": \"text\", \"text\": f\"\"\"\n",
    "                    resume the content of a text. you have to point the feature selection models used, the context where they are using it, the relationship with time series, and the results of the text, summarized.\n",
    "                    never return authors or references, just the main concepts mentioned here.\n",
    "                    this is the text:\n",
    "                    <<{'|'.join(list_summaries)}>>\n",
    "                    \"\"\"}\n",
    "            ],\n",
    "        )\n",
    "        dict_articles[article] = {\n",
    "            'list_summaries':list_summaries, \n",
    "            'final_summary':model.invoke([message]).content\n",
    "            }"
   ]
  },
  {
   "cell_type": "code",
   "execution_count": 9,
   "metadata": {},
   "outputs": [],
   "source": [
    "# -*- coding: utf-8 -*-\n",
    "import json\n",
    "\n",
    "# Make it work for Python 2+3 and with Unicode\n",
    "import io\n",
    "try:\n",
    "    to_unicode = unicode\n",
    "except NameError:\n",
    "    to_unicode = str\n",
    "\n",
    "# Define data\n",
    "data = dict_articles\n",
    "\n",
    "# Write JSON file\n",
    "with io.open('summaries.json', 'w', encoding='utf8') as outfile:\n",
    "    str_ = json.dumps(data,\n",
    "                      indent=4, sort_keys=True,\n",
    "                      separators=(',', ': '), ensure_ascii=False)\n",
    "    outfile.write(to_unicode(str_))"
   ]
  }
 ],
 "metadata": {
  "kernelspec": {
   "display_name": ".venv",
   "language": "python",
   "name": "python3"
  },
  "language_info": {
   "codemirror_mode": {
    "name": "ipython",
    "version": 3
   },
   "file_extension": ".py",
   "mimetype": "text/x-python",
   "name": "python",
   "nbconvert_exporter": "python",
   "pygments_lexer": "ipython3",
   "version": "3.10.4"
  }
 },
 "nbformat": 4,
 "nbformat_minor": 2
}
